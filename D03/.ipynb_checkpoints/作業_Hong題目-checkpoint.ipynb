{
 "cells": [
  {
   "cell_type": "markdown",
   "metadata": {
    "id": "rY2oyzUo2wKZ"
   },
   "source": [
    "作業目標:<br>\n",
    "嘗試練習log的函式並應用<br>\n",
    "作業重點:<br>\n",
    "學員需要複習log的轉換方式<br>\n",
    "熟悉運用指數函數以及對數函數"
   ]
  },
  {
   "cell_type": "markdown",
   "metadata": {
    "id": "Esjhs7zz2y95"
   },
   "source": [
    "題目:<br>\n",
    "運用投影片中的分貝公式回答下列問題。<br>\n",
    "1.正常的談話的聲壓為20000微巴斯卡，請問多少分貝?<br>\n",
    "2.30分貝的聲壓會是50分貝的幾倍?\n"
   ]
  },
  {
   "cell_type": "code",
   "execution_count": 2,
   "metadata": {
    "id": "SKVoN9E82yQi"
   },
   "outputs": [],
   "source": [
    "import numpy as np "
   ]
  },
  {
   "cell_type": "code",
   "execution_count": 24,
   "metadata": {
    "id": "knBzIEbisYO_"
   },
   "outputs": [
    {
     "data": {
      "text/plain": [
       "60.0"
      ]
     },
     "execution_count": 24,
     "metadata": {},
     "output_type": "execute_result"
    }
   ],
   "source": [
    "#1.正常的談話的聲壓為20000微巴斯卡，請問多少分貝?\n",
    "#請寫下程式\n",
    "V1 = 20000\n",
    "V0 = 20\n",
    "# GdB= 20log(v1/v0)\n",
    "\n",
    "GdB= 20*np.log10(V1/V0)\n",
    "GdB"
   ]
  },
  {
   "cell_type": "code",
   "execution_count": 25,
   "metadata": {
    "id": "5Vknqg8esbl_"
   },
   "outputs": [
    {
     "name": "stdout",
     "output_type": "stream",
     "text": [
      "30分貝的聲壓會是50分貝的幾倍?  ANS: 0.1\n"
     ]
    }
   ],
   "source": [
    "#2.30分貝的聲壓會是50分貝的幾倍?\n",
    "#公式移項過後可以得到 V1 = ?\n",
    "#請寫下程式\n",
    "#50=20log(V五十/V0), 30=20log(V三十/V0)\n",
    "#20=20(log(V五十/V0)-log(V三十/V0))\n",
    "#log(V五十/V三十)= 1\n",
    "ANS=np.power(10,(50-30)/20)\n",
    "ANS=1/ANS\n",
    "print(\"30分貝的聲壓會是50分貝的幾倍?  ANS:\",ANS)\n"
   ]
  },
  {
   "cell_type": "code",
   "execution_count": 26,
   "metadata": {
    "id": "LjGnv4Q-1t7u"
   },
   "outputs": [
    {
     "name": "stdout",
     "output_type": "stream",
     "text": [
      "V1= 6324.555320336759 uPa\n",
      "V2= 632.4555320336758 uPa\n",
      "30分貝的聲壓會是50分貝的幾倍?___V2/V1= 0.09999999999999999\n"
     ]
    }
   ],
   "source": [
    "#50=20log(V1/V0), 2.5= log(V1/20), 10^2.5=V1/20, V1= 20*10^2.5\n",
    "#30=20log(V2/V0), V2= 20*10^1.5\n",
    "V1= np.power(10,2.5)*20\n",
    "V2= np.power(10, 1.5)*20\n",
    "print(\"V1=\", V1, \"uPa\")\n",
    "print(\"V2=\", V2, \"uPa\")\n",
    "print('30分貝的聲壓會是50分貝的幾倍?___V2/V1=', V2/V1)"
   ]
  },
  {
   "cell_type": "code",
   "execution_count": 27,
   "metadata": {},
   "outputs": [
    {
     "name": "stdout",
     "output_type": "stream",
     "text": [
      "50.0\n",
      "30.0\n"
     ]
    }
   ],
   "source": [
    "print(20*np.log10(6324.555320336759/20)) #50分貝\n",
    "print(20*np.log10(632.4555320336758/20)) #30分貝\n"
   ]
  },
  {
   "cell_type": "code",
   "execution_count": null,
   "metadata": {},
   "outputs": [],
   "source": []
  }
 ],
 "metadata": {
  "colab": {
   "authorship_tag": "ABX9TyNuy8nFyZsCqfcHKKs2ys9H",
   "collapsed_sections": [],
   "name": "作業_Hong題目.ipynb",
   "provenance": []
  },
  "kernelspec": {
   "display_name": "Python 3",
   "language": "python",
   "name": "python3"
  },
  "language_info": {
   "codemirror_mode": {
    "name": "ipython",
    "version": 3
   },
   "file_extension": ".py",
   "mimetype": "text/x-python",
   "name": "python",
   "nbconvert_exporter": "python",
   "pygments_lexer": "ipython3",
   "version": "3.7.1"
  }
 },
 "nbformat": 4,
 "nbformat_minor": 1
}
